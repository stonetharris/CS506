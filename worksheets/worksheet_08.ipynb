{
 "cells": [
  {
   "attachments": {},
   "cell_type": "markdown",
   "metadata": {},
   "source": [
    "# Worksheet 08\n",
    "\n",
    "Name: Stone Harris\n",
    "UID: U41533031\n",
    "\n",
    "### Topics\n",
    "\n",
    "- Soft Clustering\n",
    "- Clustering Aggregation\n",
    "\n",
    "### Probability Review\n",
    "\n",
    "Read through [the following](https://medium.com/@gallettilance/overview-of-probability-3272b72c82c8)\n",
    "\n",
    "### Soft Clustering\n",
    "\n",
    "We generate 10 data points that come from a normal distribution with mean 5 and variance 1."
   ]
  },
  {
   "cell_type": "code",
   "execution_count": 6,
   "metadata": {},
   "outputs": [
    {
     "name": "stdout",
     "output_type": "stream",
     "text": [
      "[5.916172589697032, 3.748718004609172, 5.382649434265281, 4.1508940731772315, 4.326618748319526, 6.003143282990388, 4.414942852507401, 4.893711829189769, 7.281500053866833, 6.023034787521693]\n"
     ]
    }
   ],
   "source": [
    "import random\n",
    "import numpy as np\n",
    "from sklearn.cluster import KMeans\n",
    "\n",
    "mean = 5\n",
    "stdev = 1\n",
    "\n",
    "s1 = np.random.normal(mean, stdev, 10).tolist()\n",
    "print(s1)"
   ]
  },
  {
   "cell_type": "markdown",
   "metadata": {},
   "source": [
    "a) Generate 10 more data points, this time coming from a normal distribution with mean 8 and variance 1."
   ]
  },
  {
   "cell_type": "code",
   "execution_count": 8,
   "metadata": {},
   "outputs": [
    {
     "name": "stdout",
     "output_type": "stream",
     "text": [
      "[8.748796586569009, 8.178678618279521, 7.095859433933889, 9.672936569349467, 7.765196373426297, 7.1733654735956085, 6.476108043406354, 8.607702432538352, 7.606694162594711, 6.688665067765635]\n"
     ]
    }
   ],
   "source": [
    "s2 = np.random.normal(8, 1, 10).tolist()\n",
    "print(s2)"
   ]
  },
  {
   "attachments": {},
   "cell_type": "markdown",
   "metadata": {},
   "source": [
    "b) Flip a fair coin 10 times. If the coin lands on H, then pick the last data point of `s1` and remove it from `s1`, if T then pick the last data point from `s2` and remove it from `s2`. Add these 10 points to a list called `data`."
   ]
  },
  {
   "cell_type": "code",
   "execution_count": 9,
   "metadata": {},
   "outputs": [
    {
     "name": "stdout",
     "output_type": "stream",
     "text": [
      "[6.389550625755689, 3.9056998543985344, 6.688665067765635, 7.234326621661057, 7.606694162594711, 4.759306030616764, 8.607702432538352, 5.924999071521329, 6.476108043406354, 7.1733654735956085]\n"
     ]
    }
   ],
   "source": [
    "data = []\n",
    "for i in range(10):\n",
    "    # flip coin\n",
    "    coin_output = random.choice([0, 1])\n",
    "    if coin_output == 0:\n",
    "        p1 = s1.pop()\n",
    "        data.append(p1)\n",
    "    else:\n",
    "        p2 = s2.pop()\n",
    "        data.append(p2)\n",
    "print(data)"
   ]
  },
  {
   "cell_type": "markdown",
   "metadata": {},
   "source": [
    "c) This `data` is a Gaussian Mixture Distribution with 2 mixture components. Over the next few questions we will walk through the GMM algorithm to see if we can uncover the parameters we used to generate this data. First, please list all these parameters of the GMM that created `data` and the values we know they have."
   ]
  },
  {
   "cell_type": "markdown",
   "metadata": {},
   "source": [
    "- Means (μ1, μ2): Centers of the Gaussian distributions. Each mixture component has a vector, which indicates where the center of the cluster is located.\n",
    "\n",
    "- Covariances (Σ1, Σ2): Represent how the data points are spread out around the mean. Covariance matrices define the shape and orientation of the data as it is distributed around the mean.\n",
    "\n",
    "- Mixture Weights (π1, π2): These are the weights of each Gaussian component, indicating the probability that a randomly selected data point belongs to a particular component.\n",
    "\n",
    "- Number of Components (K): In this case, K=2 as specified by having two mixture components."
   ]
  },
  {
   "cell_type": "markdown",
   "metadata": {},
   "source": [
    "d) Let's assume there are two mixture components (note: we could plot the data and make the observation that there are two clusters). The EM algorithm asks us to start with a random `mean_j`, `variance_j`, `P(S_j)` for each component j. One method we could use to find sensible values for these is to apply K means with k=2 here.\n",
    "\n",
    "1. the centroids would be the estimates of the `mean_j`\n",
    "2. the intra-cluster variance could be the estimate of `variance_j`\n",
    "3. the proportion of points in each cluster could be the estimate of `P(S_j)`\n",
    "\n",
    "Go through this process and list the parameter estimates it gives. Are they close or far from the true values?"
   ]
  },
  {
   "cell_type": "code",
   "execution_count": 10,
   "metadata": {},
   "outputs": [
    {
     "name": "stdout",
     "output_type": "stream",
     "text": [
      "[6.389550625755689, 3.9056998543985344, 4.759306030616764, 5.924999071521329, 6.476108043406354]\n",
      "[6.688665067765635, 7.234326621661057, 7.606694162594711, 8.607702432538352, 7.1733654735956085]\n",
      "P(S_1) = 0.5,  P(S_2) = 0.5\n",
      "mean_1 = 5.4911327251397335,  mean_2 = 7.462150751631073\n",
      "var_1 = 1.0029477613414444,  var_2 = 0.41335246508677875\n"
     ]
    }
   ],
   "source": [
    "kmeans = KMeans(2, init='k-means++').fit(X=np.array(data).reshape(-1, 1))\n",
    "\n",
    "s1 = [x[0] for x in filter(lambda x: x[1] == 0, zip(data, kmeans.labels_))]\n",
    "print(s1)\n",
    "s2 = [x[0] for x in filter(lambda x: x[1] == 1, zip(data, kmeans.labels_))]\n",
    "print(s2)\n",
    "\n",
    "prob_s = [len(s1) / (len(s1) + len(s2)), len(s2) / (len(s1) + len(s2))]\n",
    "\n",
    "mean_1 = sum(s1)/len(s1)\n",
    "mean_2 = sum(s2)/len(s2)\n",
    "mean = [mean_1, mean_2]\n",
    "\n",
    "var_1 = sum((x - mean_1)**2 for x in s1) / len(s1)\n",
    "var_2 = sum((x - mean_2)**2 for x in s2) / len(s2)\n",
    "var = [var_1, var_2]\n",
    "\n",
    "print(\"P(S_1) = \" + str(prob_s[0]) + \",  P(S_2) = \" + str(prob_s[1]))\n",
    "print(\"mean_1 = \" + str(mean[0]) + \",  mean_2 = \" + str(mean[1]))\n",
    "print(\"var_1 = \" + str(var[0]) + \",  var_2 = \" + str(var[1]))"
   ]
  },
  {
   "cell_type": "markdown",
   "metadata": {},
   "source": [
    "I think that the estimates are relatively close to the true values. I'm not sure what exactly we are considering 'close', but I think that they are close enough."
   ]
  },
  {
   "cell_type": "markdown",
   "metadata": {},
   "source": [
    "e) For each data point, compute `P(S_j | X_i)`. Comment on which cluster you think each point belongs to based on the estimated probabilities. How does that compare to the truth?"
   ]
  },
  {
   "cell_type": "code",
   "execution_count": 11,
   "metadata": {},
   "outputs": [
    {
     "name": "stdout",
     "output_type": "stream",
     "text": [
      "point =  6.389550625755689\n",
      "probability of observing that point if it came from cluster 0 =  0.2663109946756367\n",
      "probability of observing that point if it came from cluster 1 =  0.03330041142479493\n",
      "point =  3.9056998543985344\n",
      "probability of observing that point if it came from cluster 0 =  0.11402884904314586\n",
      "probability of observing that point if it came from cluster 1 =  8.123461826556302e-17\n",
      "point =  6.688665067765635\n",
      "probability of observing that point if it came from cluster 0 =  0.19500792186747332\n",
      "probability of observing that point if it came from cluster 1 =  0.16758381517570173\n",
      "point =  7.234326621661057\n",
      "probability of observing that point if it came from cluster 0 =  0.08783225696923823\n",
      "probability of observing that point if it came from cluster 1 =  0.8291338896140591\n",
      "point =  7.606694162594711\n",
      "probability of observing that point if it came from cluster 0 =  0.04300034408696409\n",
      "probability of observing that point if it came from cluster 1 =  0.9078973801262846\n",
      "point =  4.759306030616764\n",
      "probability of observing that point if it came from cluster 0 =  0.30480125624911497\n",
      "probability of observing that point if it came from cluster 1 =  5.013664933210022e-10\n",
      "point =  8.607702432538352\n",
      "probability of observing that point if it came from cluster 0 =  0.0031831633699471494\n",
      "probability of observing that point if it came from cluster 1 =  0.020739328703327564\n",
      "point =  5.924999071521329\n",
      "probability of observing that point if it came from cluster 0 =  0.36223955967625526\n",
      "probability of observing that point if it came from cluster 1 =  0.0009586260413332305\n",
      "point =  6.476108043406354\n",
      "probability of observing that point if it came from cluster 0 =  0.24558236365692304\n",
      "probability of observing that point if it came from cluster 1 =  0.05609359477056689\n",
      "point =  7.1733654735956085\n",
      "probability of observing that point if it came from cluster 0 =  0.09743884599693736\n",
      "probability of observing that point if it came from cluster 1 =  0.7561359903982912\n",
      "6.389550625755689\n",
      "Probability of coming from S_1 = 0.888854660581138\n",
      "Probability of coming from S_2 = 0.11114533941886186\n",
      "\n",
      "3.9056998543985344\n",
      "Probability of coming from S_1 = 0.9999999999999992\n",
      "Probability of coming from S_2 = 7.124040885024251e-16\n",
      "\n",
      "6.688665067765635\n",
      "Probability of coming from S_1 = 0.5378167838509046\n",
      "Probability of coming from S_2 = 0.4621832161490954\n",
      "\n",
      "7.234326621661057\n",
      "Probability of coming from S_1 = 0.09578571389631943\n",
      "Probability of coming from S_2 = 0.9042142861036806\n",
      "\n",
      "7.606694162594711\n",
      "Probability of coming from S_1 = 0.04522078767465934\n",
      "Probability of coming from S_2 = 0.9547792123253407\n",
      "\n",
      "4.759306030616764\n",
      "Probability of coming from S_1 = 0.9999999983551036\n",
      "Probability of coming from S_2 = 1.6448964110782338e-09\n",
      "\n",
      "8.607702432538352\n",
      "Probability of coming from S_1 = 0.13306152888240508\n",
      "Probability of coming from S_2 = 0.8669384711175949\n",
      "\n",
      "5.924999071521329\n",
      "Probability of coming from S_1 = 0.9973605979351488\n",
      "Probability of coming from S_2 = 0.0026394020648512493\n",
      "\n",
      "6.476108043406354\n",
      "Probability of coming from S_1 = 0.8140601091881525\n",
      "Probability of coming from S_2 = 0.1859398908118474\n",
      "\n",
      "7.1733654735956085\n",
      "Probability of coming from S_1 = 0.11415384081428159\n",
      "Probability of coming from S_2 = 0.8858461591857185\n",
      "\n"
     ]
    }
   ],
   "source": [
    "from scipy.stats import norm\n",
    "\n",
    "prob_s0_x = [] # P(S_0 | X_i)\n",
    "prob_s1_x = [] # P(S_1 | X_i)\n",
    "prob_x = [] # P(X_i)\n",
    "\n",
    "k = 2\n",
    "\n",
    "for p in data:\n",
    "    print(\"point = \", p)\n",
    "    pdf_i = []\n",
    "\n",
    "    for j in range(k):\n",
    "        # P(X_i | S_j)\n",
    "        pdf_i.append(norm.pdf(p, mean[j], var[j]))\n",
    "        print(\"probability of observing that point if it came from cluster \" + str(j) + \" = \", pdf_i[j])\n",
    "        # P(S_j) already computed\n",
    "        prob_s[j]\n",
    "\n",
    "    # P(X_i) = P(S_0)P(X_i | S_0) + P(S_1)P(X_i | S_1)\n",
    "    prob_x = prob_s[0] * pdf_i[0] + prob_s[1] * pdf_i[1]\n",
    "\n",
    "    # P(S_j | X_i) = P(X_i | S_j)P(S_j) / P(X_i)\n",
    "    prob_s0_x.append(pdf_i[0] * prob_s[0] / prob_x)\n",
    "    prob_s1_x.append(pdf_i[1] * prob_s[1] / prob_x)\n",
    "\n",
    "probs = zip(data, prob_s0_x, prob_s1_x)\n",
    "for p in probs:\n",
    "    print(p[0])\n",
    "    print(\"Probability of coming from S_1 = \" + str(p[1]))\n",
    "    print(\"Probability of coming from S_2 = \" + str(p[2]))\n",
    "    print()\n"
   ]
  },
  {
   "cell_type": "markdown",
   "metadata": {},
   "source": [
    "f) Having computed `P(S_j | X_i)`, update the estimates of `mean_j`, `var_j`, and `P(S_j)`. How different are these values from the original ones you got from K means? briefly comment."
   ]
  },
  {
   "cell_type": "code",
   "execution_count": 12,
   "metadata": {},
   "outputs": [
    {
     "name": "stdout",
     "output_type": "stream",
     "text": [
      "P(S_1) = 0.5,  P(S_2) = 0.5\n",
      "mean_1 = 5.709619635434563,  mean_2 = 7.463339739403822\n",
      "var_1 = 1.307384982710878,  var_2 = 0.4275183624499728\n"
     ]
    }
   ],
   "source": [
    "prob_c = [sum(prob_s0_x) / len(prob_s0_x), sum(prob_s1_x) / len(prob_s1_x)]\n",
    "mean = [sum(p * x for p, x in zip(prob_s0_x, data)) / sum(prob_s0_x),\n",
    "        sum(p * x for p, x in zip(prob_s1_x, data)) / sum(prob_s1_x)]\n",
    "var = [sum(p * (x - mean[0])**2 for p, x in zip(prob_s0_x, data)) / sum(prob_s0_x),\n",
    "       sum(p * (x - mean[1])**2 for p, x in zip(prob_s1_x, data)) / sum(prob_s1_x)]\n",
    "\n",
    "print(\"P(S_1) = \" + str(prob_s[0]) + \",  P(S_2) = \" + str(prob_s[1]))\n",
    "print(\"mean_1 = \" + str(mean[0]) + \",  mean_2 = \" + str(mean[1]))\n",
    "print(\"var_1 = \" + str(var[0]) + \",  var_2 = \" + str(var[1]))"
   ]
  },
  {
   "cell_type": "markdown",
   "metadata": {},
   "source": [
    "These values are very similar to the ones that I obtained from using K means. This largest difference that I have observed in results is only 0.3. "
   ]
  },
  {
   "cell_type": "markdown",
   "metadata": {},
   "source": [
    "g) Update `P(S_j | X_i)`. Comment on any differences or lack thereof you observe."
   ]
  },
  {
   "cell_type": "code",
   "execution_count": 13,
   "metadata": {},
   "outputs": [
    {
     "name": "stdout",
     "output_type": "stream",
     "text": [
      "Data point: 6.389550625755689\n",
      "P(S_1 | X_0) updated: 0.7036325694601052\n",
      "P(S_2 | X_0) updated: 0.2963674305398947\n",
      "\n",
      "Data point: 3.9056998543985344\n",
      "P(S_1 | X_1) updated: 0.99999824155413\n",
      "P(S_2 | X_1) updated: 1.7584458699896062e-06\n",
      "\n",
      "Data point: 6.688665067765635\n",
      "P(S_1 | X_2) updated: 0.5070589271715339\n",
      "P(S_2 | X_2) updated: 0.49294107282846605\n",
      "\n",
      "Data point: 7.234326621661057\n",
      "P(S_1 | X_3) updated: 0.2432794901629256\n",
      "P(S_2 | X_3) updated: 0.7567205098370743\n",
      "\n",
      "Data point: 7.606694162594711\n",
      "P(S_1 | X_4) updated: 0.15984513730117716\n",
      "P(S_2 | X_4) updated: 0.8401548626988228\n",
      "\n",
      "Data point: 4.759306030616764\n",
      "P(S_1 | X_5) updated: 0.9996290291048616\n",
      "P(S_2 | X_5) updated: 0.0003709708951384327\n",
      "\n",
      "Data point: 8.607702432538352\n",
      "P(S_1 | X_6) updated: 0.1205165543660526\n",
      "P(S_2 | X_6) updated: 0.8794834456339474\n",
      "\n",
      "Data point: 5.924999071521329\n",
      "P(S_1 | X_7) updated: 0.9200423118737572\n",
      "P(S_2 | X_7) updated: 0.07995768812624288\n",
      "\n",
      "Data point: 6.476108043406354\n",
      "P(S_1 | X_8) updated: 0.6475148007131555\n",
      "P(S_2 | X_8) updated: 0.3524851992868445\n",
      "\n",
      "Data point: 7.1733654735956085\n",
      "P(S_1 | X_9) updated: 0.26345111394531406\n",
      "P(S_2 | X_9) updated: 0.7365488860546859\n",
      "\n"
     ]
    }
   ],
   "source": [
    "from scipy.stats import norm\n",
    "prob_s0_x = [] \n",
    "prob_s1_x = []  \n",
    "\n",
    "for p in data:\n",
    "    pdf_s0 = norm.pdf(p, mean[0], np.sqrt(var[0]))\n",
    "    pdf_s1 = norm.pdf(p, mean[1], np.sqrt(var[1]))\n",
    "    prob_x_i = prob_c[0] * pdf_s0 + prob_c[1] * pdf_s1\n",
    "\n",
    "    prob_s0_x_i = (pdf_s0 * prob_c[0]) / prob_x_i\n",
    "    prob_s1_x_i = (pdf_s1 * prob_c[1]) / prob_x_i\n",
    "\n",
    "    prob_s0_x.append(prob_s0_x_i)\n",
    "    prob_s1_x.append(prob_s1_x_i)\n",
    "\n",
    "for i, p in enumerate(data):\n",
    "    print(f\"Data point: {p}\")\n",
    "    print(f\"P(S_1 | X_{i}) updated: {prob_s0_x[i]}\")\n",
    "    print(f\"P(S_2 | X_{i}) updated: {prob_s1_x[i]}\\n\")"
   ]
  },
  {
   "cell_type": "markdown",
   "metadata": {},
   "source": [
    "After updating the probabilities with P(S_j | X_i), there seems to be a clearer distinction between which cluster a point is more likely to belong to."
   ]
  },
  {
   "cell_type": "markdown",
   "metadata": {},
   "source": [
    "h) Use `P(S_j | X_i)` to create a hard assignment - label each point as belonging to a specific cluster (0 or 1)"
   ]
  },
  {
   "cell_type": "code",
   "execution_count": 19,
   "metadata": {},
   "outputs": [
    {
     "name": "stdout",
     "output_type": "stream",
     "text": [
      "Data point 0 is assigned to cluster 0\n",
      "Data point 1 is assigned to cluster 0\n",
      "Data point 2 is assigned to cluster 0\n",
      "Data point 3 is assigned to cluster 1\n",
      "Data point 4 is assigned to cluster 1\n",
      "Data point 5 is assigned to cluster 0\n",
      "Data point 6 is assigned to cluster 1\n",
      "Data point 7 is assigned to cluster 0\n",
      "Data point 8 is assigned to cluster 0\n",
      "Data point 9 is assigned to cluster 1\n"
     ]
    }
   ],
   "source": [
    "hard_assignments = []\n",
    "\n",
    "for prob_s0, prob_s1 in zip(prob_s0_x, prob_s1_x):\n",
    "    if prob_s0 > prob_s1:\n",
    "        hard_assignments.append(0) \n",
    "    else:\n",
    "        hard_assignments.append(1)  \n",
    "\n",
    "for i, assignment in enumerate(hard_assignments):\n",
    "    print(f\"Data point {i} is assigned to cluster {assignment}\")"
   ]
  }
 ],
 "metadata": {
  "kernelspec": {
   "display_name": "Python 3",
   "language": "python",
   "name": "python3"
  },
  "language_info": {
   "codemirror_mode": {
    "name": "ipython",
    "version": 3
   },
   "file_extension": ".py",
   "mimetype": "text/x-python",
   "name": "python",
   "nbconvert_exporter": "python",
   "pygments_lexer": "ipython3",
   "version": "3.10.7"
  },
  "orig_nbformat": 4,
  "vscode": {
   "interpreter": {
    "hash": "e7370f93d1d0cde622a1f8e1c04877d8463912d04d973331ad4851f04de6915a"
   }
  }
 },
 "nbformat": 4,
 "nbformat_minor": 2
}
