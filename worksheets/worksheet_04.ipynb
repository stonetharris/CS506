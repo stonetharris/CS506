{
 "cells": [
  {
   "attachments": {},
   "cell_type": "markdown",
   "metadata": {},
   "source": [
    "# Worksheet 04\n",
    "\n",
    "Name: Stone Harris\n",
    "UID: U41533031\n",
    "\n",
    "### Topics\n",
    "\n",
    "- Distance & Similarity"
   ]
  },
  {
   "cell_type": "markdown",
   "metadata": {},
   "source": [
    "### Distance & Similarity\n",
    "\n",
    "#### Part 1\n",
    "\n",
    "a) In the minkowski distance, describe what the parameters p and d are."
   ]
  },
  {
   "cell_type": "markdown",
   "metadata": {},
   "source": [
    "p: This parameter determines the type of distance to compute. It must be a real number p≥1. When p=1, it becomes the Manhattan distance, and when p=2, it becomes the Euclidean distance. \n",
    "\n",
    "d: This is the number of dimensions over which the distance is calculated."
   ]
  },
  {
   "cell_type": "markdown",
   "metadata": {},
   "source": [
    "b) In your own words describe the difference between the Euclidean distance and the Manhattan distance."
   ]
  },
  {
   "cell_type": "markdown",
   "metadata": {},
   "source": [
    "Euclidean distance is the straight-line distance between two points in Euclidean space. It's the hypotenuse of a triangle that would connect the points so you would use Pythagorean theorem to obtain it.\n",
    "\n",
    "Manhattan distance measures the distance between two points by only moving along grid lines. So essentially you're restricted to only navigating established paths (gird lines) like you're in Manhattan, thus the name."
   ]
  },
  {
   "attachments": {},
   "cell_type": "markdown",
   "metadata": {},
   "source": [
    "Consider A = (0, 0) and B = (1, 1). When:\n",
    "\n",
    "- p = 1, d(A, B) = 2\n",
    "- p = 2, d(A, B) = $\\sqrt{2} = 1.41$\n",
    "- p = 3, d(A, B) = $2^{1/3} = 1.26$\n",
    "- p = 4, d(A, B) = $2^{1/4} = 1.19$\n",
    "\n",
    "c) Describe what you think distance would look like when p is very large."
   ]
  },
  {
   "cell_type": "markdown",
   "metadata": {},
   "source": [
    "As p becomes very large, the distance will approach the largest difference between corresponding coordinates of the two points. Since both coordinates have a difference of 1, the distance would close in on 1 as p approaches infinity."
   ]
  },
  {
   "cell_type": "markdown",
   "metadata": {},
   "source": [
    "d) Is the minkowski distance still a distance function when p < 1? Expain why / why not."
   ]
  },
  {
   "cell_type": "markdown",
   "metadata": {},
   "source": [
    "Minkowski distance is usually for p≥1. If p<1, distances across dimensions may yield a scenario where the direct distance from A to C is actually greater than the sum of the indirect distances."
   ]
  },
  {
   "cell_type": "markdown",
   "metadata": {},
   "source": [
    "e) when would you use cosine similarity over the euclidan distance?"
   ]
  },
  {
   "cell_type": "markdown",
   "metadata": {},
   "source": [
    "Cosine similarity is better than Euclidean when the magnitude of the vectors isn't important but the direction is."
   ]
  },
  {
   "cell_type": "markdown",
   "metadata": {},
   "source": [
    "f) what does the jaccard distance account for that the manhattan distance doesn't?"
   ]
  },
  {
   "cell_type": "markdown",
   "metadata": {},
   "source": [
    "The Jaccard distance measures the dissimilarity between two sets by comparing the size of the intersection over the size of the union of the sets. Manhattan distance does not directly consider the overlap between sets as the Jaccard distance does."
   ]
  },
  {
   "attachments": {},
   "cell_type": "markdown",
   "metadata": {},
   "source": [
    "#### Part 2\n",
    "\n",
    "Consider the following two sentences:"
   ]
  },
  {
   "cell_type": "code",
   "execution_count": null,
   "metadata": {},
   "outputs": [],
   "source": [
    "s1 = \"hello my name is Alice\"  \n",
    "s2 = \"hello my name is Bob\""
   ]
  },
  {
   "cell_type": "markdown",
   "metadata": {},
   "source": [
    "using the union of words from both sentences, we can represent each sentence as a vector. Each element of the vector represents the presence or absence of the word at that index.\n",
    "\n",
    "In this example, the union of words is (\"hello\", \"my\", \"name\", \"is\", \"Alice\", \"Bob\") so we can represent the above sentences as such:"
   ]
  },
  {
   "cell_type": "code",
   "execution_count": null,
   "metadata": {},
   "outputs": [],
   "source": [
    "v1 = [1,    1, 1,   1, 1,    0]\n",
    "#     hello my name is Alice\n",
    "v2 = [1,    1, 1,   1, 0, 1]\n",
    "#     hello my name is    Bob"
   ]
  },
  {
   "attachments": {},
   "cell_type": "markdown",
   "metadata": {},
   "source": [
    "Programmatically, we can do the following:"
   ]
  },
  {
   "cell_type": "code",
   "execution_count": null,
   "metadata": {},
   "outputs": [
    {
     "name": "stdout",
     "output_type": "stream",
     "text": [
      "['hello', 'Bob', 'is', 'name', 'my', 'Alice']\n",
      "[1, 0, 1, 1, 1, 1]\n"
     ]
    }
   ],
   "source": [
    "corpus = [s1, s2]\n",
    "all_words = list(set([item for x in corpus for item in x.split()]))\n",
    "print(all_words)\n",
    "v1 = [1 if x in s1 else 0 for x in all_words]\n",
    "print(v1)"
   ]
  },
  {
   "cell_type": "markdown",
   "metadata": {},
   "source": [
    "Let's add a new sentence to our corpus:"
   ]
  },
  {
   "cell_type": "code",
   "execution_count": null,
   "metadata": {},
   "outputs": [],
   "source": [
    "s3 = \"hi my name is Claude\"\n",
    "corpus.append(s3)"
   ]
  },
  {
   "cell_type": "markdown",
   "metadata": {},
   "source": [
    "a) What is the new union of words used to represent s1, s2, and s3?"
   ]
  },
  {
   "cell_type": "code",
   "execution_count": 2,
   "metadata": {},
   "outputs": [
    {
     "name": "stdout",
     "output_type": "stream",
     "text": [
      "['my', 'Alice', 'Bob', 'Claude', 'hello', 'is', 'name', 'hi']\n"
     ]
    }
   ],
   "source": [
    "import pandas as pd\n",
    "s1 = \"hello my name is Alice\"\n",
    "s2 = \"hello my name is Bob\"\n",
    "s3 = \"hi my name is Claude\"\n",
    "corpus = [s1, s2, s3]\n",
    "\n",
    "all_words = set(word for sentence in corpus for word in sentence.split())\n",
    "\n",
    "all_words_list = list(all_words)\n",
    "print(all_words_list)"
   ]
  },
  {
   "attachments": {},
   "cell_type": "markdown",
   "metadata": {},
   "source": [
    "b) Represent s1, s2, and s3 as vectors as above, using this new set of words."
   ]
  },
  {
   "cell_type": "code",
   "execution_count": 5,
   "metadata": {},
   "outputs": [
    {
     "name": "stdout",
     "output_type": "stream",
     "text": [
      "Vector for s1: [1, 1, 0, 0, 1, 1, 1, 0]\n",
      "Vector for s2: [1, 0, 1, 0, 1, 1, 1, 0]\n",
      "Vector for s3: [1, 0, 0, 1, 0, 1, 1, 1]\n"
     ]
    }
   ],
   "source": [
    "v1 = [1 if word in s1.split() else 0 for word in all_words_list]\n",
    "v2 = [1 if word in s2.split() else 0 for word in all_words_list]\n",
    "v3 = [1 if word in s3.split() else 0 for word in all_words_list]\n",
    "\n",
    "# Output the vectors\n",
    "print(\"Vector for s1:\", v1)\n",
    "print(\"Vector for s2:\", v2)\n",
    "print(\"Vector for s3:\", v3)"
   ]
  },
  {
   "cell_type": "markdown",
   "metadata": {},
   "source": [
    "c) Write a function that computes the manhattan distance between two vectors. Which pair of vectors are the most similar under that distance function?"
   ]
  },
  {
   "cell_type": "code",
   "execution_count": 12,
   "metadata": {},
   "outputs": [
    {
     "name": "stdout",
     "output_type": "stream",
     "text": [
      "v1/v2 dist: 2 \n",
      "v1/v3 dist: 4 \n",
      "v2/v3 dist: 4 \n",
      "most similar: v1-v2\n"
     ]
    }
   ],
   "source": [
    "def manhattan_distance(vector1, vector2):\n",
    "    return sum(abs(val1 - val2) for val1, val2 in zip(vector1, vector2))\n",
    "\n",
    "# Calculate Manhattan dist between each pair of vectors\n",
    "distance_v1_v2 = manhattan_distance(v1, v2)\n",
    "distance_v1_v3 = manhattan_distance(v1, v3)\n",
    "distance_v2_v3 = manhattan_distance(v2, v3)\n",
    "\n",
    "# Get most similar pair of vectors from smallest Manhattan dist\n",
    "distances = {\n",
    "    \"v1-v2\": distance_v1_v2,\n",
    "    \"v1-v3\": distance_v1_v3,\n",
    "    \"v2-v3\": distance_v2_v3\n",
    "}\n",
    "\n",
    "most_similar = min(distances, key=distances.get)\n",
    "\n",
    "print(\"v1/v2 dist:\", distance_v1_v2, \"\\nv1/v3 dist:\", distance_v1_v3, \"\\nv2/v3 dist:\", distance_v2_v3, \"\\nmost similar:\", most_similar)"
   ]
  },
  {
   "cell_type": "markdown",
   "metadata": {},
   "source": [
    "Most similar are v1 and v2."
   ]
  },
  {
   "cell_type": "markdown",
   "metadata": {},
   "source": [
    "d) Create a matrix of all these vectors (row major) and add the following sentences in vector form:\n",
    "\n",
    "- \"hi Alice\"\n",
    "- \"hello Claude\"\n",
    "- \"Bob my name is Claude\"\n",
    "- \"hi Claude my name is Alice\"\n",
    "- \"hello Bob\""
   ]
  },
  {
   "cell_type": "code",
   "execution_count": 31,
   "metadata": {},
   "outputs": [
    {
     "name": "stdout",
     "output_type": "stream",
     "text": [
      "[1, 1, 0, 0, 1, 1, 1, 0]\n",
      "[1, 0, 1, 0, 1, 1, 1, 0]\n",
      "[1, 0, 0, 1, 0, 1, 1, 1]\n",
      "[0, 1, 0, 0, 0, 0, 0, 1]\n",
      "[0, 0, 0, 1, 1, 0, 0, 0]\n",
      "[1, 0, 1, 1, 0, 1, 1, 0]\n",
      "[1, 1, 0, 1, 0, 1, 1, 1]\n",
      "[0, 0, 1, 0, 1, 0, 0, 0]\n",
      "Unique words: ['my', 'Alice', 'Bob', 'Claude', 'hello', 'is', 'name', 'hi']\n"
     ]
    }
   ],
   "source": [
    "def create_vectors(sentences):\n",
    "    all_words = set(word for sentence in sentences for word in sentence.split())\n",
    "    matrix = []\n",
    "    for sentence in sentences:\n",
    "        matrix.append([1 if word in sentence.split() else 0 for word in all_words])\n",
    "    return matrix, list(all_words)\n",
    "\n",
    "sentences = [\n",
    "    \"hello my name is Alice\",\n",
    "    \"hello my name is Bob\",\n",
    "    \"hi my name is Claude\",\n",
    "    \"hi Alice\",\n",
    "    \"hello Claude\",\n",
    "    \"Bob my name is Claude\",\n",
    "    \"hi Claude my name is Alice\",\n",
    "    \"hello Bob\"\n",
    "]\n",
    "\n",
    "matrix, unique_words = create_vectors(sentences)\n",
    "for row in matrix:\n",
    "    print(row)\n",
    "print(\"Unique words:\", unique_words)"
   ]
  },
  {
   "cell_type": "markdown",
   "metadata": {},
   "source": [
    "e) How many rows and columns does this matrix have?"
   ]
  },
  {
   "cell_type": "code",
   "execution_count": 34,
   "metadata": {},
   "outputs": [
    {
     "name": "stdout",
     "output_type": "stream",
     "text": [
      "8 8\n"
     ]
    }
   ],
   "source": [
    "# Number of rows = number of sentences so...\n",
    "num_rows = len(sentences)\n",
    "\n",
    "# number of columns = number of unique words\n",
    "num_columns = len(unique_words)\n",
    "\n",
    "print(num_rows, num_columns)"
   ]
  },
  {
   "attachments": {},
   "cell_type": "markdown",
   "metadata": {},
   "source": [
    "f) When using the Manhattan distance, which two sentences are the most similar?"
   ]
  },
  {
   "cell_type": "code",
   "execution_count": 41,
   "metadata": {},
   "outputs": [
    {
     "data": {
      "text/plain": [
       "([(1, 2), (1, 5), (2, 5), (4, 7)], 0)"
      ]
     },
     "execution_count": 41,
     "metadata": {},
     "output_type": "execute_result"
    }
   ],
   "source": [
    "import numpy as np\n",
    "\n",
    "def manhattan_distance(v1, v2):\n",
    "    return np.sum(np.abs(np.array(v1) - np.array(v2)))\n",
    "\n",
    "# hard coded the sentence vectors eek\n",
    "vectors = [\n",
    "    [1, 1, 1, 1, 0],\n",
    "    [1, 1, 1, 0, 1],  \n",
    "    [1, 1, 1, 0, 1], \n",
    "    [1, 0, 0, 1, 0],  \n",
    "    [1, 1, 0, 0, 1],  \n",
    "    [1, 1, 1, 0, 1], \n",
    "    [1, 1, 1, 1, 1], \n",
    "    [1, 1, 0, 0, 1] \n",
    "]\n",
    "\n",
    "# compute manhattan for all pairs\n",
    "distances = {}\n",
    "n = len(vectors)\n",
    "for i in range(n):\n",
    "    for j in range(i+1, n):\n",
    "        dist = manhattan_distance(vectors[i], vectors[j])\n",
    "        distances[(i, j)] = dist\n",
    "\n",
    "# find smallest distance\n",
    "min_dist = min(distances.values())\n",
    "most_similar_pair = [pair for pair, dist in distances.items() if dist == min_dist]\n",
    "\n",
    "most_similar_pair, min_dist\n"
   ]
  },
  {
   "cell_type": "markdown",
   "metadata": {},
   "source": [
    "#### Part 3 Challenge"
   ]
  },
  {
   "cell_type": "markdown",
   "metadata": {},
   "source": [
    "Given a set of graphs $\\mathcal{G}$, each graph $G \\in \\mathcal{G}$ is defined over the same set of nodes $V$. The graphs are represented by their adjacency matrices, which are 2D arrays where each element indicates whether a pair of nodes is connected by an edge.\n",
    "\n",
    "Your task is to compute the pairwise distances between these graphs based on a specific distance metric. The distance $d(G, G')$ between two graphs $G = (V, E)$ and $G' = (V, E')$ is defined as the sum of the number of edges in $G$ but not in $G'$, and the number of edges in $G'$ but not in $G$. Mathematically, this can be expressed as:\n",
    "\n",
    "$$\n",
    "d(G, G') = |E \\setminus E'| + |E' \\setminus E|.\n",
    "$$\n",
    "\n",
    "##### Requirements:\n",
    "1. **Input**: Should take a list of 2D numpy arrays as input. Each array represents the adjacency matrix of a graph.\n",
    "\n",
    "2. **Output**: Should output a pairwise distance matrix. If there are $n$ graphs in the input list, the output should be an $n \\times n$ matrix where the entry at position $(i, j)$ represents the distance between the $i^{th}$ and $j^{th}$ graph."
   ]
  },
  {
   "cell_type": "code",
   "execution_count": 48,
   "metadata": {},
   "outputs": [
    {
     "data": {
      "text/plain": [
       "array([[0., 2., 1.],\n",
       "       [2., 0., 3.],\n",
       "       [1., 3., 0.]])"
      ]
     },
     "execution_count": 48,
     "metadata": {},
     "output_type": "execute_result"
    }
   ],
   "source": [
    "import numpy as np\n",
    "\n",
    "def compute_graph_distance(graphs):\n",
    "    n = len(graphs)\n",
    "    distance_matrix = np.zeros((n, n))\n",
    "    \n",
    "    # calculate the  pairwise dists\n",
    "    for i in range(n):\n",
    "        for j in range(i+1, n):\n",
    "            distance = np.sum(np.abs(graphs[i] - graphs[j]))\n",
    "            distance_matrix[i, j] = distance_matrix[j, i] = distance\n",
    "            \n",
    "    return distance_matrix\n",
    "\n",
    "# examples\n",
    "G1 = np.array([[0, 1], [1, 0]])\n",
    "G2 = np.array([[0, 0], [0, 0]])\n",
    "G3 = np.array([[0, 1], [1, 1]])\n",
    "graphs = [G1, G2, G3]\n",
    "distance_matrix = compute_graph_distance(graphs)\n",
    "distance_matrix\n"
   ]
  }
 ],
 "metadata": {
  "kernelspec": {
   "display_name": "Python 3",
   "language": "python",
   "name": "python3"
  },
  "language_info": {
   "codemirror_mode": {
    "name": "ipython",
    "version": 3
   },
   "file_extension": ".py",
   "mimetype": "text/x-python",
   "name": "python",
   "nbconvert_exporter": "python",
   "pygments_lexer": "ipython3",
   "version": "3.11.1"
  },
  "orig_nbformat": 4,
  "vscode": {
   "interpreter": {
    "hash": "76ca05dc3ea24b2e3b98cdb7774adfbb40773424bf5109b477fd793f623715af"
   }
  }
 },
 "nbformat": 4,
 "nbformat_minor": 2
}
