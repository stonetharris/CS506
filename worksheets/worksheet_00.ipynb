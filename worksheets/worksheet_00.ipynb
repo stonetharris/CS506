{
  "cells": [
    {
      "cell_type": "markdown",
      "metadata": {
        "id": "nmz4steRLJsS"
      },
      "source": [
        "# Worksheet 00\n",
        "\n",
        "Name:  Stone Harris\n",
        "UID:   U41533031\n",
        "\n",
        "### Topics\n",
        "\n",
        "- course overview\n",
        "- python review\n",
        "\n",
        "### Course Overview\n",
        "\n",
        "a) Why are you taking this course?"
      ]
    },
    {
      "cell_type": "markdown",
      "metadata": {
        "id": "IZFmUXMZLJsT"
      },
      "source": [
        "I am taking this course because I am a computer science major that is interested in data science and would like to take a crack at it."
      ]
    },
    {
      "cell_type": "markdown",
      "metadata": {
        "id": "GvG2xPNQLJsT"
      },
      "source": [
        "b) What are your academic and professional goals for this semester?"
      ]
    },
    {
      "cell_type": "markdown",
      "metadata": {
        "id": "0r5t-cn8LJsT"
      },
      "source": [
        "I would like to do well in all of my classes so that I can graduate this May and get a job."
      ]
    },
    {
      "cell_type": "markdown",
      "metadata": {
        "id": "NBO-OlA4LJsT"
      },
      "source": [
        "c) Do you have previous Data Science experience? If so, please expand."
      ]
    },
    {
      "cell_type": "markdown",
      "metadata": {
        "id": "xxsFWRhyLJsT"
      },
      "source": [
        "I do not have any significant data science experience.\n"
      ]
    },
    {
      "cell_type": "markdown",
      "metadata": {
        "id": "79q-6cAGLJsT"
      },
      "source": [
        "d) Data Science is a combination of programming, math (linear algebra and calculus), and statistics. Which of these three do you struggle with the most (you may pick more than one)?"
      ]
    },
    {
      "cell_type": "markdown",
      "metadata": {
        "id": "1c31x--BLJsU"
      },
      "source": [
        "I definitely struggle most with linear algebra the most out of those three."
      ]
    },
    {
      "cell_type": "markdown",
      "metadata": {
        "id": "eOP2SyUtLJsU"
      },
      "source": [
        "### Python review\n",
        "\n",
        "#### Lambda functions\n",
        "\n",
        "Python supports the creation of anonymous functions (i.e. functions that are not bound to a name) at runtime, using a construct called `lambda`. Instead of writing a named function as such:"
      ]
    },
    {
      "cell_type": "code",
      "execution_count": null,
      "metadata": {
        "id": "PONptvb6LJsU",
        "outputId": "998f3991-7aff-4f8a-88c8-b4c3a01aca41"
      },
      "outputs": [
        {
          "data": {
            "text/plain": [
              "64"
            ]
          },
          "execution_count": 1,
          "metadata": {},
          "output_type": "execute_result"
        }
      ],
      "source": [
        "def f(x):\n",
        "    return x**2\n",
        "f(8)"
      ]
    },
    {
      "cell_type": "markdown",
      "metadata": {
        "id": "WVTaqN0hLJsU"
      },
      "source": [
        "One can write an anonymous function as such:"
      ]
    },
    {
      "cell_type": "code",
      "execution_count": null,
      "metadata": {
        "id": "Tp06XmKcLJsU",
        "outputId": "aa48ce83-1209-44f5-e4c3-ad4f2e85c263"
      },
      "outputs": [
        {
          "data": {
            "text/plain": [
              "64"
            ]
          },
          "execution_count": 2,
          "metadata": {},
          "output_type": "execute_result"
        }
      ],
      "source": [
        "(lambda x: x**2)(8)"
      ]
    },
    {
      "cell_type": "markdown",
      "metadata": {
        "id": "lT-_OyTJLJsV"
      },
      "source": [
        "A `lambda` function can take multiple arguments:"
      ]
    },
    {
      "cell_type": "code",
      "execution_count": null,
      "metadata": {
        "id": "kBTqiKs3LJsV",
        "outputId": "bf539091-8e16-4850-dc9e-127abdd9ba86"
      },
      "outputs": [
        {
          "data": {
            "text/plain": [
              "5"
            ]
          },
          "execution_count": 3,
          "metadata": {},
          "output_type": "execute_result"
        }
      ],
      "source": [
        "(lambda x, y : x + y)(2, 3)"
      ]
    },
    {
      "cell_type": "markdown",
      "metadata": {
        "id": "K2yujGSeLJsV"
      },
      "source": [
        "The arguments can be `lambda` functions themselves:"
      ]
    },
    {
      "cell_type": "code",
      "execution_count": null,
      "metadata": {
        "id": "HVyCFJvpLJsV",
        "outputId": "306c2a74-dc6c-4034-e92a-613c9c7a7358"
      },
      "outputs": [
        {
          "data": {
            "text/plain": [
              "5"
            ]
          },
          "execution_count": 4,
          "metadata": {},
          "output_type": "execute_result"
        }
      ],
      "source": [
        "(lambda x : x(3))(lambda y: 2 + y)"
      ]
    },
    {
      "cell_type": "markdown",
      "metadata": {
        "id": "YK377VQMLJsV"
      },
      "source": [
        "a) write a `lambda` function that takes three arguments `x, y, z` and returns `True` only if `x < y < z`."
      ]
    },
    {
      "cell_type": "code",
      "execution_count": null,
      "metadata": {
        "colab": {
          "base_uri": "https://localhost:8080/"
        },
        "id": "27nYhs6lLJsV",
        "outputId": "8146d655-45b9-4f68-b722-57a255ccc946"
      },
      "outputs": [
        {
          "output_type": "execute_result",
          "data": {
            "text/plain": [
              "True"
            ]
          },
          "metadata": {},
          "execution_count": 6
        }
      ],
      "source": [
        "check = (lambda x, y, z: x < y < z)\n",
        "check(1, 2, 3)"
      ]
    },
    {
      "cell_type": "markdown",
      "metadata": {
        "id": "qOlFkVk_LJsV"
      },
      "source": [
        "b) write a `lambda` function that takes a parameter `n` and returns a lambda function that will multiply any input it receives by `n`. For example, if we called this function `g`, then `g(n)(2) = 2n`"
      ]
    },
    {
      "cell_type": "code",
      "execution_count": null,
      "metadata": {
        "colab": {
          "base_uri": "https://localhost:8080/"
        },
        "id": "3ugvZ2jBLJsV",
        "outputId": "5083074b-8022-41fc-97b4-e52e1c14733d"
      },
      "outputs": [
        {
          "output_type": "stream",
          "name": "stdout",
          "text": [
            "4\n"
          ]
        }
      ],
      "source": [
        "g = (lambda n: (lambda x: x * n))\n",
        "n = g(2)\n",
        "result = n(2)\n",
        "print(result)"
      ]
    },
    {
      "cell_type": "markdown",
      "metadata": {
        "id": "a7l86vleLJsV"
      },
      "source": [
        "#### Map\n",
        "\n",
        "`map(func, s)`\n",
        "\n",
        "`func` is a function and `s` is a sequence (e.g., a list).\n",
        "\n",
        "`map()` returns an object that will apply function `func` to each of the elements of `s`.\n",
        "\n",
        "For example if you want to multiply every element in a list by 2 you can write the following:"
      ]
    },
    {
      "cell_type": "code",
      "execution_count": null,
      "metadata": {
        "id": "mKXi6Ej7LJsV",
        "outputId": "8fb9b0e1-d6f1-4b06-b380-ff3a4d27cae4"
      },
      "outputs": [
        {
          "name": "stdout",
          "output_type": "stream",
          "text": [
            "[2, 4, 6, 8, 10]\n"
          ]
        }
      ],
      "source": [
        "mylist = [1, 2, 3, 4, 5]\n",
        "mylist_mul_by_2 = map(lambda x : 2 * x, mylist)\n",
        "print(list(mylist_mul_by_2))"
      ]
    },
    {
      "cell_type": "markdown",
      "metadata": {
        "id": "ghfiypiWLJsV"
      },
      "source": [
        "`map` can also be applied to more than one list as long as they are the same size:"
      ]
    },
    {
      "cell_type": "code",
      "execution_count": null,
      "metadata": {
        "id": "G7tK2kDzLJsV",
        "outputId": "aef35937-8877-481c-a55e-6cac2f90d143"
      },
      "outputs": [
        {
          "data": {
            "text/plain": [
              "[6, 6, 6, 6, 6]"
            ]
          },
          "execution_count": 9,
          "metadata": {},
          "output_type": "execute_result"
        }
      ],
      "source": [
        "a = [1, 2, 3, 4, 5]\n",
        "b = [5, 4, 3, 2, 1]\n",
        "\n",
        "a_plus_b = map(lambda x, y: x + y, a, b)\n",
        "list(a_plus_b)"
      ]
    },
    {
      "cell_type": "markdown",
      "metadata": {
        "id": "o-ZV2Q5MLJsV"
      },
      "source": [
        "c) write a map that checks if elements are greater than zero"
      ]
    },
    {
      "cell_type": "code",
      "execution_count": null,
      "metadata": {
        "colab": {
          "base_uri": "https://localhost:8080/"
        },
        "id": "X-K-4CSxLJsV",
        "outputId": "766aa354-79b0-4034-c6e8-a17c989be92b"
      },
      "outputs": [
        {
          "output_type": "execute_result",
          "data": {
            "text/plain": [
              "[False, False, False, True, True]"
            ]
          },
          "metadata": {},
          "execution_count": 11
        }
      ],
      "source": [
        "c = [-2, -1, 0, 1, 2]\n",
        "gt_zero = map(lambda x: x > 0, c)\n",
        "list(gt_zero)"
      ]
    },
    {
      "cell_type": "markdown",
      "metadata": {
        "id": "ZLRP75naLJsV"
      },
      "source": [
        "d) write a map that checks if elements are multiples of 3"
      ]
    },
    {
      "cell_type": "code",
      "execution_count": 3,
      "metadata": {
        "id": "6KFY1FAHLJsV",
        "colab": {
          "base_uri": "https://localhost:8080/"
        },
        "outputId": "6483d1c2-bd9d-4262-98d4-87ac62c61d0d"
      },
      "outputs": [
        {
          "output_type": "execute_result",
          "data": {
            "text/plain": [
              "[False, True, True, False, False]"
            ]
          },
          "metadata": {},
          "execution_count": 3
        }
      ],
      "source": [
        "d = [1, 3, 6, 11, 2]\n",
        "mul_of3 = map(lambda x: x % 3 == 0, d)\n",
        "list(mul_of3)"
      ]
    },
    {
      "cell_type": "markdown",
      "metadata": {
        "id": "rOORFa30LJsV"
      },
      "source": [
        "#### Filter\n",
        "\n",
        "`filter(function, list)` returns a new list containing all the elements of `list` for which `function()` evaluates to `True.`\n",
        "\n",
        "e) write a filter that will only return even numbers in the list"
      ]
    },
    {
      "cell_type": "code",
      "execution_count": 6,
      "metadata": {
        "id": "c70HLdsnLJsW",
        "colab": {
          "base_uri": "https://localhost:8080/"
        },
        "outputId": "3edd3900-7dfb-40be-c3e5-c29ded1d1bdc"
      },
      "outputs": [
        {
          "output_type": "execute_result",
          "data": {
            "text/plain": [
              "[2, 4, 6, 8, 10]"
            ]
          },
          "metadata": {},
          "execution_count": 6
        }
      ],
      "source": [
        "e = [1, 2, 3, 4, 5, 6, 7, 8, 9, 10]\n",
        "evens = filter(lambda x: x % 2 == 0, e)\n",
        "list(evens)"
      ]
    },
    {
      "cell_type": "markdown",
      "metadata": {
        "id": "R_QjEQudLJsW"
      },
      "source": [
        "#### Reduce\n",
        "\n",
        "`reduce(function, sequence[, initial])` returns the result of sequentially applying the function to the sequence (starting at an initial state). You can think of reduce as consuming the sequence via the function.\n",
        "\n",
        "For example, let's say we want to add all elements in a list. We could write the following:"
      ]
    },
    {
      "cell_type": "code",
      "execution_count": null,
      "metadata": {
        "id": "ZkmMw5A0LJsW",
        "outputId": "bfa44ede-3830-4d7e-b8b1-0086a309e57e"
      },
      "outputs": [
        {
          "name": "stdout",
          "output_type": "stream",
          "text": [
            "15\n"
          ]
        }
      ],
      "source": [
        "from functools import reduce\n",
        "\n",
        "nums = [1, 2, 3, 4, 5]\n",
        "sum_nums = reduce(lambda acc, x : acc + x, nums, 0)\n",
        "print(sum_nums)"
      ]
    },
    {
      "cell_type": "markdown",
      "metadata": {
        "id": "1hVRLlt0LJsW"
      },
      "source": [
        "Let's walk through the steps of `reduce` above:\n",
        "\n",
        "1) the value of `acc` is set to 0 (our initial value)\n",
        "2) Apply the lambda function on `acc` and the first element of the list: `acc` = `acc` + 1 = 1\n",
        "3) `acc` = `acc` + 2 = 3\n",
        "4) `acc` = `acc` + 3 = 6\n",
        "5) `acc` = `acc` + 4 = 10\n",
        "6) `acc` = `acc` + 5 = 15\n",
        "7) return `acc`\n",
        "\n",
        "`acc` is short for `accumulator`.\n",
        "\n",
        "f) `*challenging` Using `reduce` write a function that returns the factorial of a number. (recall: N! (N factorial) = N * (N - 1) * (N - 2) * ... * 2 * 1)"
      ]
    },
    {
      "cell_type": "code",
      "execution_count": 12,
      "metadata": {
        "id": "oIKmO3ylLJsW",
        "colab": {
          "base_uri": "https://localhost:8080/"
        },
        "outputId": "9ad8e0cd-aa8b-4cd7-dd67-52225099df9f"
      },
      "outputs": [
        {
          "output_type": "execute_result",
          "data": {
            "text/plain": [
              "3628800"
            ]
          },
          "metadata": {},
          "execution_count": 12
        }
      ],
      "source": [
        "from functools import reduce\n",
        "factorial = lambda acc : reduce(lambda acc, y: acc * y, range(1, acc+1))\n",
        "factorial(10)"
      ]
    },
    {
      "cell_type": "markdown",
      "metadata": {
        "id": "JPJUAkJvLJsW"
      },
      "source": [
        "g) `*challenging` Using `reduce` and `filter`, write a function that returns all the primes below a certain number"
      ]
    },
    {
      "cell_type": "code",
      "execution_count": 20,
      "metadata": {
        "id": "gqg4sJOjLJsW",
        "colab": {
          "base_uri": "https://localhost:8080/"
        },
        "outputId": "20c4c02f-b442-486d-d22b-078779d52dff"
      },
      "outputs": [
        {
          "output_type": "stream",
          "name": "stdout",
          "text": [
            "[2, 3, 5, 7, 11]\n"
          ]
        }
      ],
      "source": [
        "from functools import reduce\n",
        "\n",
        "def sieve(n):\n",
        "    def filter_primes(primes, next_num):\n",
        "        # filter to get rid of the non prime nums\n",
        "        non_divisors = list(filter(lambda prime: next_num % prime != 0, primes))\n",
        "        # no divisors found -> its prime\n",
        "        if len(non_divisors) == len(primes):\n",
        "            primes.append(next_num)\n",
        "        return primes\n",
        "\n",
        "    # reduce applies filter_primes and then acc the prime nums\n",
        "    # have to not use 1 for the range\n",
        "    return reduce(filter_primes, range(2, n), [])\n",
        "\n",
        "print(sieve(12))"
      ]
    },
    {
      "cell_type": "markdown",
      "metadata": {
        "id": "XbyqNIviLJsW"
      },
      "source": [
        "### What is going on?\n",
        "\n",
        "For each of the following code snippets, explain why the result may be unexpected and why the output is what it is:"
      ]
    },
    {
      "cell_type": "code",
      "execution_count": null,
      "metadata": {
        "id": "UhjcUjApLJsW",
        "outputId": "47c997b8-6f0e-4fa0-ac2c-8be17ab406ec"
      },
      "outputs": [
        {
          "name": "stdout",
          "output_type": "stream",
          "text": [
            "OVERDRAWN\n"
          ]
        }
      ],
      "source": [
        "class Bank:\n",
        "  def __init__(self, balance):\n",
        "    self.balance = balance\n",
        "\n",
        "  def is_overdrawn(self):\n",
        "    return self.balance < 0\n",
        "\n",
        "myBank = Bank(100)\n",
        "if myBank.is_overdrawn :\n",
        "  print(\"OVERDRAWN\")\n",
        "else:\n",
        "  print(\"ALL GOOD\")"
      ]
    },
    {
      "cell_type": "markdown",
      "metadata": {
        "id": "dxdZ3XcXLJsW"
      },
      "source": [
        "\"OVERDRAWN\" is being printed because there is a lack of parentheses in the line: \"if myBank.is_overdrawn :\". It should be: \"if myBank.is_overdrawn():\" instead. As it is right now, the if statement is just checking if the method itself is true (I think) and that's why you get the \"OVERDRAWN\""
      ]
    },
    {
      "cell_type": "code",
      "execution_count": null,
      "metadata": {
        "id": "TSab8aOiLJsd",
        "outputId": "8782e214-fbcc-4145-b564-56722fd3ab17"
      },
      "outputs": [
        {
          "name": "stdout",
          "output_type": "stream",
          "text": [
            "0\n",
            "1\n",
            "2\n",
            "3\n"
          ]
        }
      ],
      "source": [
        "for i in range(4):\n",
        "    print(i)\n",
        "    i = 10"
      ]
    },
    {
      "cell_type": "markdown",
      "metadata": {
        "id": "GMP1x9KJLJse"
      },
      "source": [
        "This one is more simple. The value of i is reset at the beginning of each iteration so setting it to 10 after the print statement has no effect. Right after being set to 10, the loop enters its next iteration and prints that value of i rather than 10."
      ]
    },
    {
      "cell_type": "code",
      "execution_count": null,
      "metadata": {
        "id": "4Lq_YgUqLJse",
        "outputId": "3501268a-32b0-4753-cf6b-8d0ffe8f0c89"
      },
      "outputs": [
        {
          "name": "stdout",
          "output_type": "stream",
          "text": [
            "[['', '', ''], ['', '', ''], ['', '', '']]\n",
            "[['X', '', ''], ['X', '', ''], ['X', '', '']]\n"
          ]
        }
      ],
      "source": [
        "row = [\"\"] * 3 # row i['', '', '']\n",
        "board = [row] * 3\n",
        "print(board) # [['', '', ''], ['', '', ''], ['', '', '']]\n",
        "board[0][0] = \"X\"\n",
        "print(board)"
      ]
    },
    {
      "cell_type": "markdown",
      "metadata": {
        "id": "-ZqoHlY4LJse"
      },
      "source": [
        "So the issue here is that the board[0][0] = \"X\" line changes the first element in row to X. However the 2D array, board, references the row variable three times to make up the complete board. So when you change one value in row, that change will appear three times in each row of the board."
      ]
    },
    {
      "cell_type": "code",
      "execution_count": null,
      "metadata": {
        "id": "X0KunK7pLJse",
        "outputId": "92ef2ce0-4b87-4be2-cbda-24720fd5ce90"
      },
      "outputs": [
        {
          "name": "stdout",
          "output_type": "stream",
          "text": [
            "[0, 1, 2]\n",
            "[2, 2, 2]\n"
          ]
        }
      ],
      "source": [
        "funcs = []\n",
        "results = []\n",
        "for x in range(3):\n",
        "    def some_func():\n",
        "        return x\n",
        "    funcs.append(some_func)\n",
        "    results.append(some_func())  # note the function call here\n",
        "\n",
        "funcs_results = [func() for func in funcs]\n",
        "print(results) # [0,1,2]\n",
        "print(funcs_results)"
      ]
    },
    {
      "cell_type": "markdown",
      "metadata": {
        "id": "DQ_bx-cDLJse"
      },
      "source": [
        "So the issue is that results and funcs_results don't match even though they use the same simple func, 'some_func' that just returns x. This is because in funcs_results, the value of x at the time is not being used, only the final value of 2 is being used. Thus funcs_results just contains [2, 2, 2] rather than the contents of results: [0, 1, 2]. The difference comes from that append() where results receives some_func() as opposed to just some_func. I hope this explanation makes sense."
      ]
    },
    {
      "cell_type": "code",
      "execution_count": null,
      "metadata": {
        "id": "QzkaO2IbLJse",
        "outputId": "2900b2c5-cc79-49ce-cbf1-40d0be69c10a"
      },
      "outputs": [
        {
          "name": "stdout",
          "output_type": "stream",
          "text": [
            "0\n"
          ]
        }
      ],
      "source": [
        "f = open(\"./data.txt\", \"w+\")\n",
        "f.write(\"1,2,3,4,5\")\n",
        "f.close()\n",
        "\n",
        "nums = []\n",
        "with open(\"./data.txt\", \"w+\") as f:\n",
        "  lines = f.readlines()\n",
        "  for line in lines:\n",
        "    nums += [int(x) for x in line.split(\",\")]\n",
        "\n",
        "print(sum(nums))"
      ]
    },
    {
      "cell_type": "markdown",
      "metadata": {
        "id": "Dbyapmq_LJse"
      },
      "source": [
        "Okay this one was very tricky, but the issue stems from the mode in which the data.txt file is reopened. It is reopened in the same mode, w+, when it should be opened in r mode for read only. According to geeks for geeks, opening a file in w+ clears the content of the file. So that is why no integers are found in the file and thus the printed sum is 0."
      ]
    }
  ],
  "metadata": {
    "interpreter": {
      "hash": "e7370f93d1d0cde622a1f8e1c04877d8463912d04d973331ad4851f04de6915a"
    },
    "kernelspec": {
      "display_name": "Python 3 (ipykernel)",
      "language": "python",
      "name": "python3"
    },
    "language_info": {
      "codemirror_mode": {
        "name": "ipython",
        "version": 3
      },
      "file_extension": ".py",
      "mimetype": "text/x-python",
      "name": "python",
      "nbconvert_exporter": "python",
      "pygments_lexer": "ipython3",
      "version": "3.11.1"
    },
    "colab": {
      "provenance": []
    }
  },
  "nbformat": 4,
  "nbformat_minor": 0
}